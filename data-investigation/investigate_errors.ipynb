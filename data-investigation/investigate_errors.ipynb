{
 "cells": [
  {
   "cell_type": "code",
   "execution_count": 7,
   "metadata": {},
   "outputs": [],
   "source": [
    "from collections import Counter\n",
    "import dill\n",
    "import seaborn as sns\n",
    "import pandas as pd\n",
    "\n",
    "import os\n",
    "import sys\n",
    "sys.path.append('..')\n",
    "\n",
    "from config import DATASET_DILL_OUTPUT_PATH\n"
   ]
  },
  {
   "cell_type": "code",
   "execution_count": 8,
   "metadata": {},
   "outputs": [],
   "source": [
    "with open(os.path.join('..', DATASET_DILL_OUTPUT_PATH), 'rb') as f:\n",
    "  results = dill.load(f)"
   ]
  },
  {
   "cell_type": "code",
   "execution_count": 9,
   "metadata": {},
   "outputs": [],
   "source": [
    "ERROR_MAPPING = {\n",
    "  'File not found': 'Missing File',\n",
    "  'requires different compiler version' : 'Wrong Compiler Version',\n",
    "  'SPDX license identifier' : 'Missing license',\n",
    "  'Only state variables or file-level variables can have a docstring': 'Invalid Docstring',\n",
    "  'Stack too deep': 'Stack too deep',\n",
    "  'Error: Expected': 'Syntax',\n",
    "  'Documentation tag @custom:attribution not valid for contracts.': 'Invalid Documentation Tag',\n",
    "  'Internal compiler error': 'Internal Compiler Error',\n",
    "  'Interfaces cannot inherit': 'Interfaces Cannot Inherit',\n",
    "  'not found or not visible after argument-dependent lookup': 'Method Not Found',\n",
    "  'Location has to be calldata for external functions': 'Location Must Be Calldata',\n",
    "}"
   ]
  },
  {
   "cell_type": "markdown",
   "metadata": {},
   "source": []
  },
  {
   "cell_type": "code",
   "execution_count": 10,
   "metadata": {},
   "outputs": [],
   "source": [
    "errors_by_project = {}\n",
    "errors = []\n",
    "for result in results:\n",
    "  fs = [str(f[1]) for f in result.failures]\n",
    "  errs = []\n",
    "  for f in fs:\n",
    "    for match, cat in ERROR_MAPPING.items():\n",
    "      if match in f:\n",
    "        errs.append(cat)\n",
    "  \n",
    "  errors += errs\n",
    "  errors_by_project[result.project_name] = Counter(errs)\n",
    "errors = Counter(errors)"
   ]
  },
  {
   "cell_type": "code",
   "execution_count": 11,
   "metadata": {},
   "outputs": [
    {
     "name": "stderr",
     "output_type": "stream",
     "text": [
      "/opt/homebrew/Caskroom/miniconda/base/envs/p310/lib/python3.10/site-packages/seaborn/_oldcore.py:1498: FutureWarning: is_categorical_dtype is deprecated and will be removed in a future version. Use isinstance(dtype, CategoricalDtype) instead\n",
      "  if pd.api.types.is_categorical_dtype(vector):\n",
      "/opt/homebrew/Caskroom/miniconda/base/envs/p310/lib/python3.10/site-packages/seaborn/_oldcore.py:1498: FutureWarning: is_categorical_dtype is deprecated and will be removed in a future version. Use isinstance(dtype, CategoricalDtype) instead\n",
      "  if pd.api.types.is_categorical_dtype(vector):\n",
      "/opt/homebrew/Caskroom/miniconda/base/envs/p310/lib/python3.10/site-packages/seaborn/_oldcore.py:1765: FutureWarning: unique with argument that is not not a Series, Index, ExtensionArray, or np.ndarray is deprecated and will raise in a future version.\n",
      "  order = pd.unique(vector)\n",
      "/opt/homebrew/Caskroom/miniconda/base/envs/p310/lib/python3.10/site-packages/seaborn/_oldcore.py:1498: FutureWarning: is_categorical_dtype is deprecated and will be removed in a future version. Use isinstance(dtype, CategoricalDtype) instead\n",
      "  if pd.api.types.is_categorical_dtype(vector):\n"
     ]
    },
    {
     "data": {
      "text/plain": [
       "Text(0, 0.5, 'Num Files')"
      ]
     },
     "execution_count": 11,
     "metadata": {},
     "output_type": "execute_result"
    },
    {
     "data": {
      "image/png": "[encoded data removed]",
      "text/plain": [
       "<Figure size 432x288 with 1 Axes>"
      ]
     },
     "metadata": {
      "needs_background": "light"
     },
     "output_type": "display_data"
    }
   ],
   "source": [
    "ax = sns.barplot(x=list(errors.keys()), y=list(errors.values()))\n",
    "ax.set_xticklabels(ax.get_xticklabels(), rotation=90, ha='center')\n",
    "ax.set_xlabel('Error Type')\n",
    "ax.set_ylabel('Num Files')\n"
   ]
  },
  {
   "cell_type": "code",
   "execution_count": 15,
   "metadata": {},
   "outputs": [
    {
     "name": "stdout",
     "output_type": "stream",
     "text": [
      "[]\n",
      "['project-repos/AAVE/aave-v3-core/contracts/mocks/tests/MockReserveInterestRateStrategy.sol',\n",
      " 'project-repos/AAVE/aave-v3-core/contracts/mocks/helpers/MockReserveConfiguration.sol',\n",
      " 'project-repos/AAVE/aave-v3-core/contracts/mocks/tests/FlashloanAttacker.sol',\n",
      " 'project-repos/AAVE/aave-v3-core/contracts/mocks/upgradeability/MockVariableDebtToken.sol',\n",
      " 'project-repos/AAVE/aave-v3-core/contracts/mocks/helpers/MockL2Pool.sol',\n",
      " 'project-repos/AAVE/aave-v3-core/contracts/mocks/helpers/MockPool.sol',\n",
      " 'project-repos/AAVE/aave-v3-core/contracts/mocks/upgradeability/MockAToken.sol',\n",
      " 'project-repos/AAVE/aave-v3-core/contracts/mocks/upgradeability/MockStableDebtToken.sol',\n",
      " 'project-repos/AAVE/aave-v3-core/contracts/mocks/flashloan/MockFlashLoanReceiver.sol',\n",
      " 'project-repos/AAVE/aave-v3-core/contracts/mocks/flashloan/MockSimpleFlashLoanReceiver.sol',\n",
      " 'project-repos/AAVE/aave-v3-core/contracts/mocks/tokens/WETH9Mocked.sol',\n",
      " 'project-repos/AAVE/aave-v3-core/contracts/mocks/tokens/MockATokenRepayment.sol']\n",
      "[]\n",
      "[]\n",
      "[]\n",
      "[]\n",
      "[]\n",
      "[]\n",
      "['project-repos/Lido DAO/lido-dao/contracts/0.6.12/mocks/StETHMockERC20.sol',\n",
      " 'project-repos/Lido DAO/lido-dao/contracts/0.6.12/mocks/WstETHMock.sol']\n",
      "['project-repos/Immutable/contracts/contracts/mocks/MockWallet.sol',\n",
      " 'project-repos/Immutable/contracts/contracts/mocks/MockFactory.sol',\n",
      " 'project-repos/Immutable/contracts/contracts/mocks/MockDisguisedEOA.sol',\n",
      " 'project-repos/Immutable/contracts/contracts/mocks/MockEIP1271Wallet.sol',\n",
      " 'project-repos/Immutable/contracts/contracts/mocks/MockMarketplace.sol',\n",
      " 'project-repos/Immutable/contracts/contracts/mocks/MockOnReceive.sol']\n",
      "[]\n",
      "[]\n"
     ]
    }
   ],
   "source": [
    "from pprint import pprint\n",
    "for result in results:\n",
    "  pprint([f[0] for f in result.failures if 'mock' in f[0]])"
   ]
  },
  {
   "cell_type": "code",
   "execution_count": 16,
   "metadata": {},
   "outputs": [
    {
     "data": {
      "text/plain": [
       "{'DAI': 5,\n",
       " 'AAVE': 8,\n",
       " 'USD Tether': 0,\n",
       " 'Polygon': 64,\n",
       " 'USDC': 31,\n",
       " 'Shiba Inu': 64,\n",
       " 'Toncoin': 0,\n",
       " 'Uniswap': 0,\n",
       " 'Lido DAO': 73,\n",
       " 'Immutable': 37,\n",
       " 'Mantle': 59,\n",
       " 'Cronos': 11}"
      ]
     },
     "execution_count": 16,
     "metadata": {},
     "output_type": "execute_result"
    }
   ],
   "source": [
    "{n: e['Missing File'] for n, e in errors_by_project.items()}"
   ]
  },
  {
   "cell_type": "code",
   "execution_count": null,
   "metadata": {},
   "outputs": [],
   "source": []
  }
 ],
 "metadata": {
  "kernelspec": {
   "display_name": "p310",
   "language": "python",
   "name": "python3"
  },
  "language_info": {
   "codemirror_mode": {
    "name": "ipython",
    "version": 3
   },
   "file_extension": ".py",
   "mimetype": "text/x-python",
   "name": "python",
   "nbconvert_exporter": "python",
   "pygments_lexer": "ipython3",
   "version": "3.10.0"
  }
 },
 "nbformat": 4,
 "nbformat_minor": 2
}
