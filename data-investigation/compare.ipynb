{
 "cells": [
  {
   "cell_type": "code",
   "execution_count": 1,
   "metadata": {},
   "outputs": [],
   "source": [
    "import pandas as pd"
   ]
  },
  {
   "cell_type": "code",
   "execution_count": 7,
   "metadata": {},
   "outputs": [],
   "source": [
    "COLS = [\n",
    "  'project_name'\n",
    "  'num_files',\n",
    "  'cc_median',\n",
    "  'cc_max',\n",
    "  'loc_median'\n",
    "]\n",
    "\n"
   ]
  },
  {
   "cell_type": "code",
   "execution_count": 26,
   "metadata": {},
   "outputs": [],
   "source": [
    "all_not_excluded = pd.read_csv('../output/results-all-repos-no-exclude-paths-20240130.csv')[COLS]\n",
    "all_excluded = pd.read_csv('../output/results-all-repos-20240131.csv')[COLS]\n",
    "selected_excluded = pd.read_csv('../output/results-selected-20240131.csv')[COLS]\n",
    "\n",
    "df = all_not_excluded.merge(all_excluded, suffixes=['_all_no_exclusion', '_all_with_exclusion'], how='left', on='project_name')\n",
    "df = df.merge(selected_excluded, how='right', on='project_name')\n",
    "df = df[sorted(df.columns)]\n",
    "df.to_csv('compare.csv')"
   ]
  },
  {
   "cell_type": "code",
   "execution_count": null,
   "metadata": {},
   "outputs": [],
   "source": []
  }
 ],
 "metadata": {
  "kernelspec": {
   "display_name": "p310",
   "language": "python",
   "name": "python3"
  },
  "language_info": {
   "codemirror_mode": {
    "name": "ipython",
    "version": 3
   },
   "file_extension": ".py",
   "mimetype": "text/x-python",
   "name": "python",
   "nbconvert_exporter": "python",
   "pygments_lexer": "ipython3",
   "version": "3.10.0"
  }
 },
 "nbformat": 4,
 "nbformat_minor": 2
}
